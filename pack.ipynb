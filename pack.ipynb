{
 "cells": [
  {
   "cell_type": "code",
   "execution_count": null,
   "metadata": {},
   "outputs": [],
   "source": [
    "import pandas as pd\n",
    "import numpy as np\n",
    "jaar = 2022\n",
    "pad = 'D:/Pack/'\n",
    "facturen_bron = pd.read_excel(pad + 'Export Factuurgegevens Qlik 2022.xlsx', sheet_name = 'Export facturen - Bewerkt V&V')\n",
    "prijslijst_bron1 = pd.read_excel(pad + 'Prijs per product en debiteur - Export tabel VA-219 + VA-217 + AF-220.xlsx' , sheet_name = 'Debiteur-prijslijst')\n",
    "prijslijst_bron2 = pd.read_excel(pad + 'Prijs per product en debiteur - Export tabel VA-219 + VA-217 + AF-220.xlsx' , sheet_name = 'va-217 Prijslijst-productprijs')\n",
    "prijslijst_bron3 = pd.read_excel(pad + 'Prijs per product en debiteur - Export tabel VA-219 + VA-217 + AF-220.xlsx' , sheet_name = 'va-219 Debiteur-productprijs')"
   ]
  },
  {
   "cell_type": "code",
   "execution_count": null,
   "metadata": {},
   "outputs": [],
   "source": [
    "facturen = facturen_bron.copy()\n",
    "facturen = facturen.loc[~facturen['Artikelnummer'].str.startswith('B')]\n",
    "facturen['Artikelnummer'] = facturen['Artikelnummer'].astype(int)\n",
    "\n",
    "prijslijst1 = pd.merge(prijslijst_bron2, prijslijst_bron1, how = 'left', left_on = 'cdprl', right_on = 'Prijslijst')\n",
    "prijslijst1 = prijslijst1.rename(columns={\"Debnr\":\"cddeb\"})\n",
    "\n",
    "prijslijst = pd.concat([prijslijst1,prijslijst_bron3])\n",
    "\n",
    "\n",
    "prijslijst = prijslijst.loc[(prijslijst['datum-in'].dt.year == jaar),:]\n",
    "prijslijst['Prijs per stuk'] = prijslijst['prijs']/100"
   ]
  },
  {
   "cell_type": "code",
   "execution_count": null,
   "metadata": {},
   "outputs": [],
   "source": [
    "for i in facturen.index:\n",
    "    artnr = facturen.loc[i,'Artikelnummer']\n",
    "    debnr = facturen.loc[i, 'Debnr']\n",
    "    facdatum = facturen.loc[i, 'Invoice date']\n",
    "    eenheid = facturen.loc[i, 'Unit of measure']\n",
    "    try:\n",
    "        facturen.loc[i, 'Prijsafspraak'] = prijslijst.loc[(prijslijst['cdstandeenhd'] == eenheid) & (prijslijst['cddeb'] == debnr) & (prijslijst['cdprodukt'] == artnr) & (prijslijst['datum-in'] <= facdatum) & (prijslijst['datum-uit'] >= facdatum),'Prijs per stuk'].values[0]\n",
    "        #facturen.loc[i, 'Eenheid'] = prijslijst.loc[(prijslijst['cddeb'] == debnr) & (prijslijst['cdprodukt'] == artnr) & (prijslijst['datum-in'] <= facdatum) & (prijslijst['datum-uit'] >= facdatum),'cdstandeenhd'].values[0]\n",
    "    except:\n",
    "        pass"
   ]
  },
  {
   "cell_type": "code",
   "execution_count": null,
   "metadata": {},
   "outputs": [],
   "source": [
    "with pd.ExcelWriter(f'Contractanalyse Pack-it {jaar}.xlsx') as writer:\n",
    "    facturen.to_excel(writer, index=False, sheet_name='Contractanalyse')\n",
    "    prijslijst.to_excel(writer, index=False, sheet_name = 'Prijslijst')"
   ]
  }
 ],
 "metadata": {
  "kernelspec": {
   "display_name": "base",
   "language": "python",
   "name": "python3"
  },
  "language_info": {
   "codemirror_mode": {
    "name": "ipython",
    "version": 3
   },
   "file_extension": ".py",
   "mimetype": "text/x-python",
   "name": "python",
   "nbconvert_exporter": "python",
   "pygments_lexer": "ipython3",
   "version": "3.8.5"
  }
 },
 "nbformat": 4,
 "nbformat_minor": 2
}
